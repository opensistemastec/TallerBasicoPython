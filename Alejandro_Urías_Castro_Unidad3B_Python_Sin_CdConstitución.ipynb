{
  "nbformat": 4,
  "nbformat_minor": 0,
  "metadata": {
    "colab": {
      "provenance": [],
      "collapsed_sections": [
        "hvOSDIk18k-O"
      ],
      "include_colab_link": true
    },
    "kernelspec": {
      "name": "python3",
      "display_name": "Python 3"
    },
    "language_info": {
      "name": "python"
    }
  },
  "cells": [
    {
      "cell_type": "markdown",
      "metadata": {
        "id": "view-in-github",
        "colab_type": "text"
      },
      "source": [
        "<a href=\"https://colab.research.google.com/github/opensistemastec/TallerBasicoPython/blob/master/Alejandro_Ur%C3%ADas_Castro_Unidad3B_Python_Sin_CdConstituci%C3%B3n.ipynb\" target=\"_parent\"><img src=\"https://colab.research.google.com/assets/colab-badge.svg\" alt=\"Open In Colab\"/></a>"
      ]
    },
    {
      "cell_type": "markdown",
      "source": [
        "\n",
        "# ***PROGRAMACIÓN PYTHON***\n",
        "\n",
        "---\n",
        "\n",
        "\n",
        "\n"
      ],
      "metadata": {
        "id": "hvOSDIk18k-O"
      }
    },
    {
      "cell_type": "markdown",
      "source": [
        "# **UNIDAD 3 - Manejo de excepciones.**\n",
        "\n",
        "---\n",
        "Una excepción ocurre cuando sucede algo inesperado en el programa, generalmente ocurren cuando se produce un error, un método no termina correctamente o como su nombre lo indica, por alguna razón, el programa termina de manera excepcional por alguna situación anormal.\n",
        "\n",
        "Es muy importante aprender a manejar las excepciones ya que ocasionan que las aplicaciones finalicen de manera abrupta y generalmente los usuarios no obtienen información de lo que sucedio.\n",
        "\n",
        "Para evitar situaciones de ese tipo, se debe recurrir al manejo de las excepciones, de esta manera, es posible controlar el comportamiento del programa cuando alcanza una situación de error.\n",
        "\n",
        "Como ejemplo, se usará el caso de la división:"
      ],
      "metadata": {
        "id": "ORKz6k_BKrNv"
      }
    },
    {
      "cell_type": "code",
      "source": [
        "a = 20\n",
        "b = 7\n",
        "print(a/b)"
      ],
      "metadata": {
        "id": "_f_BdaQ6H3-e",
        "colab": {
          "base_uri": "https://localhost:8080/"
        },
        "outputId": "625a9d07-95b3-4b67-be82-b50247c7c80e"
      },
      "execution_count": null,
      "outputs": [
        {
          "output_type": "stream",
          "name": "stdout",
          "text": [
            "2.857142857142857\n"
          ]
        }
      ]
    },
    {
      "cell_type": "markdown",
      "source": [
        "En el caso anterior, la división puede realizarse son problema debido a que los valores de las variables son válidos, sin embargo ¿Qué sucede si la variable `b` tiene el valor de 0?"
      ],
      "metadata": {
        "id": "yKcKBW8fIu06"
      }
    },
    {
      "cell_type": "code",
      "source": [
        "b = 0\n",
        "print(a/b)"
      ],
      "metadata": {
        "id": "_fwoRQEgzT9q",
        "colab": {
          "base_uri": "https://localhost:8080/",
          "height": 183
        },
        "outputId": "2c24546e-11ac-469a-c0f0-40e14fdcca2c"
      },
      "execution_count": null,
      "outputs": [
        {
          "output_type": "error",
          "ename": "ZeroDivisionError",
          "evalue": "ignored",
          "traceback": [
            "\u001b[0;31m---------------------------------------------------------------------------\u001b[0m",
            "\u001b[0;31mZeroDivisionError\u001b[0m                         Traceback (most recent call last)",
            "\u001b[0;32m<ipython-input-2-ccdbc9c89c3e>\u001b[0m in \u001b[0;36m<module>\u001b[0;34m\u001b[0m\n\u001b[1;32m      1\u001b[0m \u001b[0mb\u001b[0m \u001b[0;34m=\u001b[0m \u001b[0;36m0\u001b[0m\u001b[0;34m\u001b[0m\u001b[0;34m\u001b[0m\u001b[0m\n\u001b[0;32m----> 2\u001b[0;31m \u001b[0mprint\u001b[0m\u001b[0;34m(\u001b[0m\u001b[0ma\u001b[0m\u001b[0;34m/\u001b[0m\u001b[0mb\u001b[0m\u001b[0;34m)\u001b[0m\u001b[0;34m\u001b[0m\u001b[0;34m\u001b[0m\u001b[0m\n\u001b[0m",
            "\u001b[0;31mZeroDivisionError\u001b[0m: division by zero"
          ]
        }
      ]
    },
    {
      "cell_type": "markdown",
      "source": [
        "Se alcanza la siguiente excepción: `ZeroDivisionError: division by zero`, esto ocurre por que matematicamente la división entre cero no está definida, por tanto, ningún lenguaje de programación sabe como realizar dicha operación.\n",
        "\n",
        "Otra excepción podría suceder si alguna variable fuera un objeto que no puede realizar la operación de división:"
      ],
      "metadata": {
        "id": "_iAufoW0za_k"
      }
    },
    {
      "cell_type": "code",
      "source": [
        "b = \"Hola\"\n",
        "print(a/b)"
      ],
      "metadata": {
        "id": "8PZTuBh30Q52",
        "colab": {
          "base_uri": "https://localhost:8080/",
          "height": 183
        },
        "outputId": "b269b575-b20c-4177-d137-0a13f41e902d"
      },
      "execution_count": null,
      "outputs": [
        {
          "output_type": "error",
          "ename": "TypeError",
          "evalue": "ignored",
          "traceback": [
            "\u001b[0;31m---------------------------------------------------------------------------\u001b[0m",
            "\u001b[0;31mTypeError\u001b[0m                                 Traceback (most recent call last)",
            "\u001b[0;32m<ipython-input-3-7860a8a7b7c9>\u001b[0m in \u001b[0;36m<module>\u001b[0;34m\u001b[0m\n\u001b[1;32m      1\u001b[0m \u001b[0mb\u001b[0m \u001b[0;34m=\u001b[0m \u001b[0;34m\"Hola\"\u001b[0m\u001b[0;34m\u001b[0m\u001b[0;34m\u001b[0m\u001b[0m\n\u001b[0;32m----> 2\u001b[0;31m \u001b[0mprint\u001b[0m\u001b[0;34m(\u001b[0m\u001b[0ma\u001b[0m\u001b[0;34m/\u001b[0m\u001b[0mb\u001b[0m\u001b[0;34m)\u001b[0m\u001b[0;34m\u001b[0m\u001b[0;34m\u001b[0m\u001b[0m\n\u001b[0m",
            "\u001b[0;31mTypeError\u001b[0m: unsupported operand type(s) for /: 'int' and 'str'"
          ]
        }
      ]
    },
    {
      "cell_type": "markdown",
      "source": [
        "En este caso se alcanza la excepción de: `TypeError: unsupported operand type(s) for /: 'int' and 'str'`.\n",
        "\n",
        "Aunque es posible agregar robustez al código mediante estructuras de selección `if - else`, generalmente resulta imposible e impráctico realizar todas las comprobaciones de forma manual de una en una."
      ],
      "metadata": {
        "id": "ZYEw2VQl0f1Q"
      }
    },
    {
      "cell_type": "code",
      "source": [
        "b = 0\n",
        "\n",
        "if b != 0: \n",
        "  print(a/b)\n",
        "else:\n",
        "\n",
        "  print(\"No se puede dividir entre cero\")"
      ],
      "metadata": {
        "id": "Q9QV8bBU1RYW",
        "colab": {
          "base_uri": "https://localhost:8080/"
        },
        "outputId": "7cee41ad-d5a3-4d2a-f960-1a864c3792d1"
      },
      "execution_count": null,
      "outputs": [
        {
          "output_type": "stream",
          "name": "stdout",
          "text": [
            "No se puede dividir entre cero\n"
          ]
        }
      ]
    },
    {
      "cell_type": "markdown",
      "source": [
        "Otra manera de lanzar excepciones es cuando se conozca de algún caso en el que el programa puede incurrir en un error. Para esas situaciones se hace uso de la función `raise()`:"
      ],
      "metadata": {
        "id": "kgw4wsGl1imR"
      }
    },
    {
      "cell_type": "code",
      "source": [
        "b = 85\n",
        "\n",
        "if type(b) is not int:\n",
        "  raise Exception(\"Error de tipo - Únicamente se permiten enteros.\")\n",
        "elif b != 0:\n",
        "  print(a/b)\n",
        "else:\n",
        "  print(\"División entre cero no está definida\")"
      ],
      "metadata": {
        "id": "KID6pdiF1_9Z",
        "colab": {
          "base_uri": "https://localhost:8080/"
        },
        "outputId": "10eabc19-f080-4fb0-cfb9-90e0993c0730"
      },
      "execution_count": null,
      "outputs": [
        {
          "output_type": "stream",
          "name": "stdout",
          "text": [
            "0.23529411764705882\n"
          ]
        }
      ]
    },
    {
      "cell_type": "markdown",
      "source": [
        "En el ejemplo anterior, `b` toma el valor de una cadena, por tanto, el programa cae en una excepción de tipo en la cual para realizar la división únicamente se aceptan enteros, de este modo lanzamos una excepción personalizada. \n",
        "\n",
        "Para ver la lista de todas las excepciones que tiene Python, es necesario consultar la documentación oficial respecto a las [excepciones](https://docs.python.org/3/library/exceptions.html).\n",
        "\n",
        "Si bien la solución anterior permite visualizar las posibles condiciones de error, aún no se están manejando correctamente y el programa continua deteniéndose en la excepción. Para evitarlo es necesario utilizar los bloques `try - except`. La sintaxis es la siguiente:\n",
        "\n",
        "```\n",
        "try:\n",
        "  Código que lanzará alguna o varias excepciones.\n",
        "except:\n",
        "  Lo que realizará el programa en caso de alcanzar la excepción especificada.\n",
        "```\n",
        "\n",
        "Por ejemplo, para capturar las dos posibles excepciones de la división y hacer que el programa no termine anormalmente el código sería:"
      ],
      "metadata": {
        "id": "n2u8Ztba35Es"
      }
    },
    {
      "cell_type": "code",
      "source": [
        "b = \"hola\"\n",
        "\n",
        "try:\n",
        "  print(a/b)\n",
        "except ZeroDivisionError:\n",
        "  print(\"no se puede dividir entre cero.\")\n",
        "except TypeError:\n",
        "  print(\"No se puede dividir entre una cadena\")"
      ],
      "metadata": {
        "id": "IRYC2Db96gqT",
        "colab": {
          "base_uri": "https://localhost:8080/"
        },
        "outputId": "f8aaa54a-2601-4292-a453-52c41344d0ef"
      },
      "execution_count": null,
      "outputs": [
        {
          "output_type": "stream",
          "name": "stdout",
          "text": [
            "No se puede dividir entre una cadena\n"
          ]
        }
      ]
    },
    {
      "cell_type": "markdown",
      "source": [
        "El segmento anterior permite tratar cada excepción de manera separada, aunque si se requiere tratar ambas excepciones de la misma manera, es posible definirlas dentro de un bloque `except()`:"
      ],
      "metadata": {
        "id": "1CuiX5O87CWz"
      }
    },
    {
      "cell_type": "code",
      "source": [
        "b = \"hola\"\n",
        "\n",
        "try:\n",
        "  print(a/b)\n",
        "except (ZeroDivisionError, TypeError):\n",
        "  print(\"No se puede dividir entre una cadena\")"
      ],
      "metadata": {
        "id": "Ytza1en87TRs",
        "colab": {
          "base_uri": "https://localhost:8080/"
        },
        "outputId": "f260b706-4df2-4f9a-c85f-ffa70ec0090c"
      },
      "execution_count": null,
      "outputs": [
        {
          "output_type": "stream",
          "name": "stdout",
          "text": [
            "No se puede dividir entre una cadena\n"
          ]
        }
      ]
    },
    {
      "cell_type": "markdown",
      "source": [
        "Si son muchas las posibles excepciones o no se conocen, se puede utilizar la clase base de las mismas, la cual es `Exception`, una vez que caiga dentro de ella, es posible identificarla:"
      ],
      "metadata": {
        "id": "FebuWmAm7fr_"
      }
    },
    {
      "cell_type": "code",
      "source": [
        "b = 0\n",
        "\n",
        "try:\n",
        "  print(a/b)\n",
        "except Exception as e:\n",
        "  print(\"No se puede dividir entre una cadena\", type(e))"
      ],
      "metadata": {
        "id": "Bvhg2Jtd71kX",
        "colab": {
          "base_uri": "https://localhost:8080/"
        },
        "outputId": "8c8c648c-8654-498f-a766-5abd81a924ec"
      },
      "execution_count": null,
      "outputs": [
        {
          "output_type": "stream",
          "name": "stdout",
          "text": [
            "No se puede dividir entre una cadena <class 'ZeroDivisionError'>\n"
          ]
        }
      ]
    },
    {
      "cell_type": "markdown",
      "source": [
        "Además de los bloques anteriores, Python permite añadir un bloque `else` el cual se ejecutará sino se alcanzó alguna excepción:"
      ],
      "metadata": {
        "id": "-pz4taeX8XS7"
      }
    },
    {
      "cell_type": "code",
      "source": [
        "b = 4\n",
        "\n",
        "try:\n",
        "  print(a/b)\n",
        "except Exception as e:\n",
        "  print(\"No se puede dividir entre una cadena\", type(e))\n",
        "else:\n",
        "  print(\"No hubo excepción alguna.\")"
      ],
      "metadata": {
        "id": "pG2Ki0__8p4s",
        "colab": {
          "base_uri": "https://localhost:8080/"
        },
        "outputId": "c53d203a-9580-460a-9d3f-0e5f5eb2e704"
      },
      "execution_count": null,
      "outputs": [
        {
          "output_type": "stream",
          "name": "stdout",
          "text": [
            "5.0\n",
            "No hubo excepción alguna.\n"
          ]
        }
      ]
    },
    {
      "cell_type": "markdown",
      "source": [
        "Un último bloque que es posible agregar a los anteriores, es `finally`. Este bloque siempre se ejecutará haya habido o no alguna excepción:"
      ],
      "metadata": {
        "id": "tf0iqlvc83Wj"
      }
    },
    {
      "cell_type": "code",
      "source": [
        "b = \"Hola\"\n",
        "\n",
        "try:\n",
        "  print(a/b)\n",
        "except Exception as e:\n",
        "  print(\"No se puede dividir entre una cadena\", type(e))\n",
        "else:\n",
        "  print(\"No hubo excepción alguna.\")\n",
        "finally:\n",
        "  print(\"Programa terminado.\")"
      ],
      "metadata": {
        "id": "J2lyrJee9R1w",
        "colab": {
          "base_uri": "https://localhost:8080/"
        },
        "outputId": "d8c54d04-d184-46e8-9eb2-2e9a965f362b"
      },
      "execution_count": null,
      "outputs": [
        {
          "output_type": "stream",
          "name": "stdout",
          "text": [
            "No se puede dividir entre una cadena <class 'TypeError'>\n",
            "Programa terminado.\n"
          ]
        }
      ]
    },
    {
      "cell_type": "markdown",
      "source": [
        "***ESCRIBE Y COMPARTE TUS REFLEXIONES DE LOS TEMAS VISTOS ANTERIORMENTE.***\n",
        "________________________________________________________________________________\n",
        "________________________________________________________________________________\n",
        "________________________________________________________________________________\n",
        "________________________________________________________________________________"
      ],
      "metadata": {
        "id": "SG9zH2AYMsnV"
      }
    },
    {
      "cell_type": "markdown",
      "source": [
        "La importancia del manejo de excepciones en programación, radica en que podemos desarrollar aplicaciones más estables, seguras y limpias, a la vista del usuario."
      ],
      "metadata": {
        "id": "zsdUdF9w-pew"
      }
    }
  ]
}