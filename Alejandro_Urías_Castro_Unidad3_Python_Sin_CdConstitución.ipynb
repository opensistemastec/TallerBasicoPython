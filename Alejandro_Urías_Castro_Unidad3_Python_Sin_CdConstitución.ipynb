{
  "nbformat": 4,
  "nbformat_minor": 0,
  "metadata": {
    "colab": {
      "provenance": [],
      "include_colab_link": true
    },
    "kernelspec": {
      "name": "python3",
      "display_name": "Python 3"
    },
    "language_info": {
      "name": "python"
    }
  },
  "cells": [
    {
      "cell_type": "markdown",
      "metadata": {
        "id": "view-in-github",
        "colab_type": "text"
      },
      "source": [
        "<a href=\"https://colab.research.google.com/github/opensistemastec/TallerBasicoPython/blob/master/Alejandro_Ur%C3%ADas_Castro_Unidad3_Python_Sin_CdConstituci%C3%B3n.ipynb\" target=\"_parent\"><img src=\"https://colab.research.google.com/assets/colab-badge.svg\" alt=\"Open In Colab\"/></a>"
      ]
    },
    {
      "cell_type": "markdown",
      "source": [
        "\n",
        "# ***PROGRAMACIÓN PYTHON***\n",
        "\n",
        "---\n",
        "\n",
        "\n",
        "\n"
      ],
      "metadata": {
        "id": "hvOSDIk18k-O"
      }
    },
    {
      "cell_type": "markdown",
      "source": [
        "# **UNIDAD 3 - Funciones, cadenas y listas.**\n",
        "\n",
        "---\n",
        "## Funciones.\n",
        "\n",
        "Como todos los lenguajes de programación, en Python es posible definir funciones propias para ejecutar código personalizado. Para definirlas es necesario utilizar la palabra reservada `def`. La sintaxis de cualquier función en Python es la siguiente:\n",
        "\n",
        "```\n",
        "def nombre_funcion(parámetros):\n",
        "    código\n",
        "    return retorno\n",
        "```\n",
        "\n",
        "Toda función contiene un **nombre, parámetros** y **valor de retorno** (opcional). Al igual que las variables, no es necesario definir el tipo de dato que retornará la función. Al igual que sucede con las estructuras de slección y los ciclos, ya que se va a comenzar con un nuevo bloque de código, es necsario dejar una identación para que el interpreta reconozca el código subsecuente como parte del cuerpo de la función. El valor de retorno es opcional, sí la función no devuelve nada, se omite.\n",
        "\n",
        "Como ejemplo se va a desarrollar una función sin argumentos que nada más salude al usuario:"
      ],
      "metadata": {
        "id": "ORKz6k_BKrNv"
      }
    },
    {
      "cell_type": "code",
      "source": [
        "def saludar():\n",
        "  print(\"Hola usuario\")\n",
        "\n"
      ],
      "metadata": {
        "id": "uAplf9tu2rl1",
        "colab": {
          "base_uri": "https://localhost:8080/"
        },
        "outputId": "9ec8bec6-2b2e-4542-a3b7-3143333094d5"
      },
      "execution_count": null,
      "outputs": [
        {
          "output_type": "stream",
          "name": "stdout",
          "text": [
            "Hola usuario\n"
          ]
        }
      ]
    },
    {
      "cell_type": "markdown",
      "source": [
        "Una llamada a la función, es igual que en otro lenguajes de programación, escribiendo su nombre y los argumentos correspondientes:"
      ],
      "metadata": {
        "id": "nzAHYMlA20VM"
      }
    },
    {
      "cell_type": "code",
      "source": [
        "saludar()"
      ],
      "metadata": {
        "id": "F7Nhwr422-CS",
        "colab": {
          "base_uri": "https://localhost:8080/"
        },
        "outputId": "e490e3cb-0882-4c76-e2e2-573e3c8854cc"
      },
      "execution_count": null,
      "outputs": [
        {
          "output_type": "stream",
          "name": "stdout",
          "text": [
            "Hola usuario\n"
          ]
        }
      ]
    },
    {
      "cell_type": "markdown",
      "source": [
        "## **Pase de argumentos.**\n",
        "\n",
        "Todas las funciones en Python tienen la capacidad de recibir parámetros, que son las variables locales con las que operará la función.\n",
        "\n",
        "En Python, a las funciones se les puede pasar un argumento, argumentos posicionados, por nombre, predetermnados y de longitud variable.\n",
        "\n",
        "### ***Parámetro sencillo.***\n",
        "\n",
        "Modificar la función anterior pero agregando como argumento el nombre de a quien saludará:"
      ],
      "metadata": {
        "id": "6mUVOm693GlQ"
      }
    },
    {
      "cell_type": "code",
      "source": [
        "def saludar(nombre):\n",
        "  print(\"Hola \", nombre)\n",
        "\n",
        "saludar(\"Alejandro\")"
      ],
      "metadata": {
        "id": "aIFcYf6J4L-5",
        "colab": {
          "base_uri": "https://localhost:8080/"
        },
        "outputId": "725d0ff2-b4c8-48be-826e-9d39ae2d1613"
      },
      "execution_count": null,
      "outputs": [
        {
          "output_type": "stream",
          "name": "stdout",
          "text": [
            "Hola  Alejandro\n"
          ]
        }
      ]
    },
    {
      "cell_type": "markdown",
      "source": [
        "En otros lenguajes de programación existe la sobrecarga de funciones ¿Recuerdas qué significa ese término? Consiste en tener varias funciones con el mismo nombre cuya única diferencia es la cantidad y opcionalmente el tipo de argumentos que recibe. Por ejemplo en C++ es válido tener:\n",
        "\n",
        "```\n",
        "#Código C++\n",
        "int suma(int n1, int n2);\n",
        "int suma(float n1, float n2, float n3);\n",
        "```\n",
        "\n",
        "En el ejemplo anterior, el compilador se encargará de llamar a la función correspondiente cuando sea llamada en base a los valores pasados.\n",
        "\n",
        "¿Qué pasa en Python si intentas llamar las dos funciones difinidas anteriormente?"
      ],
      "metadata": {
        "id": "4mpImYJK4cmF"
      }
    },
    {
      "cell_type": "code",
      "source": [
        "saludar(\"Alejandro\")\n",
        "saludar()"
      ],
      "metadata": {
        "id": "ZaNltLRF6bRf",
        "colab": {
          "base_uri": "https://localhost:8080/",
          "height": 202
        },
        "outputId": "45cf8a44-a788-4bc5-eecf-488a7260762f"
      },
      "execution_count": null,
      "outputs": [
        {
          "output_type": "stream",
          "name": "stdout",
          "text": [
            "Hola  Alejandro\n"
          ]
        },
        {
          "output_type": "error",
          "ename": "TypeError",
          "evalue": "ignored",
          "traceback": [
            "\u001b[0;31m---------------------------------------------------------------------------\u001b[0m",
            "\u001b[0;31mTypeError\u001b[0m                                 Traceback (most recent call last)",
            "\u001b[0;32m<ipython-input-8-476e36caabe6>\u001b[0m in \u001b[0;36m<module>\u001b[0;34m\u001b[0m\n\u001b[1;32m      1\u001b[0m \u001b[0msaludar\u001b[0m\u001b[0;34m(\u001b[0m\u001b[0;34m\"Alejandro\"\u001b[0m\u001b[0;34m)\u001b[0m\u001b[0;34m\u001b[0m\u001b[0;34m\u001b[0m\u001b[0m\n\u001b[0;32m----> 2\u001b[0;31m \u001b[0msaludar\u001b[0m\u001b[0;34m(\u001b[0m\u001b[0;34m)\u001b[0m\u001b[0;34m\u001b[0m\u001b[0;34m\u001b[0m\u001b[0m\n\u001b[0m",
            "\u001b[0;31mTypeError\u001b[0m: saludar() missing 1 required positional argument: 'nombre'"
          ]
        }
      ]
    },
    {
      "cell_type": "markdown",
      "source": [
        "Eso es debido a que Python no soporta la sobrecarga de funciones, sin embargo proporciona los otros medios de pase de argumentos que servirán para asemejar la funcionalidad descrita, con la ventaja de que el código será más simple y sencillo de leer.\n",
        "\n",
        "### ***Parámetros por posición.***\n",
        "\n",
        "Los parámetros por posición son aquellos que en la firma de la función tiene un orden y que al ser invocada, los datos que se le pasen como argumentos se almacenarán en las variables correspondientes de acuerdo a su posición. Además se exige que la función sea llamada exactamente con la misma cantidad de parámetros con la que fue declarada."
      ],
      "metadata": {
        "id": "Fp4a8Vpq6i3c"
      }
    },
    {
      "cell_type": "code",
      "source": [
        "def resta(n1, n2):\n",
        "  return n1 - n2\n",
        "\n",
        "res = resta(2, 3)\n",
        "print(res)"
      ],
      "metadata": {
        "id": "_nDjt9skNPMT",
        "colab": {
          "base_uri": "https://localhost:8080/"
        },
        "outputId": "565b9e0d-dfae-4085-8ba3-9cce0bf3eb52"
      },
      "execution_count": null,
      "outputs": [
        {
          "output_type": "stream",
          "name": "stdout",
          "text": [
            "-1\n"
          ]
        }
      ]
    },
    {
      "cell_type": "markdown",
      "source": [
        "### ***Parámetros por nombre.***\n",
        "\n",
        "En Python es posible utilizar el nombre del parámetro para asignarle un valor, usando este modo, es válido ignorar la posición de los argumentos:"
      ],
      "metadata": {
        "id": "RzhJqHHCNupz"
      }
    },
    {
      "cell_type": "code",
      "source": [
        "print(resta(n2 = 2, n1 = 3))"
      ],
      "metadata": {
        "id": "DWhUUSoVOl5T",
        "colab": {
          "base_uri": "https://localhost:8080/"
        },
        "outputId": "bea2ec1c-8778-4f56-8b2a-01e42bb7228f"
      },
      "execution_count": null,
      "outputs": [
        {
          "output_type": "stream",
          "name": "stdout",
          "text": [
            "1\n"
          ]
        }
      ]
    },
    {
      "cell_type": "markdown",
      "source": [
        "### ***Parámetros con valor predeterminado.***\n",
        "\n",
        "En la firma de una función, es posible declarar un parámetro que tenga un valor de manera predeterminada, esto permitirá que dicho argumento sea opcional al momento de invocar la función, el interprete detectará que no le fue asignado algún valor y por tanto utilizará el valor predeterminado:"
      ],
      "metadata": {
        "id": "BRg4y7hmOvKi"
      }
    },
    {
      "cell_type": "code",
      "source": [
        "def resta(n1 , n2, n3 = 0):\n",
        "  return n1 - n2 - n3\n",
        "\n",
        "print(resta(10, 5))\n",
        "print(resta(10, 5, 2))\n",
        "print(resta(n3 = 8, n1 = 4, n2 = 6))\n"
      ],
      "metadata": {
        "id": "PHiM6rpDQYjL",
        "colab": {
          "base_uri": "https://localhost:8080/"
        },
        "outputId": "06ae05cf-0b90-4236-f1aa-4dbe88391952"
      },
      "execution_count": null,
      "outputs": [
        {
          "output_type": "stream",
          "name": "stdout",
          "text": [
            "5\n",
            "3\n",
            "-10\n"
          ]
        }
      ]
    },
    {
      "cell_type": "markdown",
      "source": [
        "### ***Parámetros de longitud variable***.\n",
        "\n",
        "Python permite que el número de argumentos que se le pase a una función pueda ser variable, es decir que la función pueda recibir n cantidad de datos como argumentos. Para indicar al interprete que el argumento será de longitud variable, es necesario anteponer un asterisco (*) antes del nombre del parámetro. AL hacerlo, automáticamente el interprete covierte el parámetro en una tupla:"
      ],
      "metadata": {
        "id": "Jrmgg1kNRBmS"
      }
    },
    {
      "cell_type": "code",
      "source": [
        "def resta(*nums):\n",
        "  print(type(nums))\n",
        "\n",
        "  res = 0\n",
        "  for n in nums:\n",
        "    res -= n\n",
        "  \n",
        "  return res\n",
        "\n",
        "print(resta())\n",
        "print(resta(1))\n",
        "print(resta(2, 3))\n",
        "print(resta(4, 5, 6, 7, 8, 91))\n",
        "print(resta(4.6, 6.7, 4.8))"
      ],
      "metadata": {
        "id": "2d1lG03iWTOl",
        "colab": {
          "base_uri": "https://localhost:8080/"
        },
        "outputId": "94172452-6e00-46a7-880b-d58f771ddc3f"
      },
      "execution_count": null,
      "outputs": [
        {
          "output_type": "stream",
          "name": "stdout",
          "text": [
            "<class 'tuple'>\n",
            "0\n",
            "<class 'tuple'>\n",
            "-1\n",
            "<class 'tuple'>\n",
            "-5\n",
            "<class 'tuple'>\n",
            "-121\n",
            "<class 'tuple'>\n",
            "-16.1\n"
          ]
        }
      ]
    },
    {
      "cell_type": "markdown",
      "source": [
        "Si agregamos dos asteriscos (**), es posible pasarle como parámetro los datos en forma de *clave = valor*, o bien, diorectamente un diccionario. Para obtener los datos, se utilizará ```items()```:"
      ],
      "metadata": {
        "id": "I3YlNswnX7ZF"
      }
    },
    {
      "cell_type": "code",
      "source": [
        "def resta(**nums):\n",
        "  print(type(nums))\n",
        "\n",
        "  res = 0\n",
        "  for clave, valor in nums.items():\n",
        "    res -= valor\n",
        "\n",
        "  return res\n",
        "\n",
        "print(resta(entero = 10, flotante = 5.5, imaginario = 3 +8j))\n",
        "\n",
        "#Definir datos por fuera\n",
        "calc = {\"ent\":5, \"flot\":56.3, \"img\": 2.7}\n",
        "print(resta(**calc))"
      ],
      "metadata": {
        "id": "C5q1RTS6YZf5",
        "colab": {
          "base_uri": "https://localhost:8080/"
        },
        "outputId": "458931cf-450c-4b8c-87a0-bd34539ed065"
      },
      "execution_count": null,
      "outputs": [
        {
          "output_type": "stream",
          "name": "stdout",
          "text": [
            "<class 'dict'>\n",
            "(-18.5-8j)\n",
            "<class 'dict'>\n",
            "-64.0\n"
          ]
        }
      ]
    },
    {
      "cell_type": "markdown",
      "source": [
        "# **Operaciones con cadenas y formateo**.\n",
        "\n",
        "Como se mencionó en lecciones anteriores, las cadenas son secuencias de caracteres y son inmutables. no tiene un tamaño en memoria predeterminado y para declararlas, es necesario colocar el texto entre comillas dobles o sencillas.\n",
        "\n",
        "Dentro de ellas es posible usar secuencias de escape pero también existen las conocidas como *raw strings* que ignoran dichas secuencias:"
      ],
      "metadata": {
        "id": "g0TZADvnbzXK"
      }
    },
    {
      "cell_type": "code",
      "source": [
        "print(\"\\135 \\135\")\n",
        "\n",
        "print(r\"\\135 \\135\")"
      ],
      "metadata": {
        "id": "J3CD6WME1ai-",
        "colab": {
          "base_uri": "https://localhost:8080/"
        },
        "outputId": "969a594b-7952-4ee6-99cf-194c1fd323cc"
      },
      "execution_count": null,
      "outputs": [
        {
          "output_type": "stream",
          "name": "stdout",
          "text": [
            "] ]\n",
            "\\135 \\135\n"
          ]
        }
      ]
    },
    {
      "cell_type": "markdown",
      "source": [
        "Las cadens se pueden concatenar usando el operador \"+\", sin importar la cantidad:"
      ],
      "metadata": {
        "id": "2VV9xaKu2VwH"
      }
    },
    {
      "cell_type": "code",
      "source": [
        "cad1 = \"Concatenación de\"\n",
        "cad2 = \"cadenas.\"\n",
        "\n",
        "print(cad1 + \" \" + cad2)"
      ],
      "metadata": {
        "id": "8FSUu2ba2avX",
        "colab": {
          "base_uri": "https://localhost:8080/"
        },
        "outputId": "b5a11eef-3e2e-4d5e-d801-ade4c8d9edcd"
      },
      "execution_count": null,
      "outputs": [
        {
          "output_type": "stream",
          "name": "stdout",
          "text": [
            "Concatenación de cadenas.\n"
          ]
        }
      ]
    },
    {
      "cell_type": "markdown",
      "source": [
        "Con la función `format()` es posible agregar variables a una cadena, acomodándolas por posición o mediante su nombre:"
      ],
      "metadata": {
        "id": "COkNhAiI28XJ"
      }
    },
    {
      "cell_type": "code",
      "source": [
        "cad3 = \"El {} es un entero y el {} es de tipo flotante\".format(56, 32.5)\n",
        "cad4 = \"Número complejo: {comp} y una cadena {str}\".format(str=\"de catacteres\", comp=34 + 6j)\n",
        "\n",
        "print(cad3)\n",
        "print(cad4)"
      ],
      "metadata": {
        "id": "cr1ZjIoF3SDl",
        "colab": {
          "base_uri": "https://localhost:8080/"
        },
        "outputId": "02dd9a1f-c660-4115-bd9c-f27d9fd5cd3c"
      },
      "execution_count": null,
      "outputs": [
        {
          "output_type": "stream",
          "name": "stdout",
          "text": [
            "El 56 es un entero y el 32.5 es de tipo flotante\n",
            "Número complejo: (34+6j) y una cadena de catacteres\n"
          ]
        }
      ]
    },
    {
      "cell_type": "markdown",
      "source": [
        "Las `f-strings()` permiten utilizar variables dentro de las cadenas como los ejemplos anteriores pero además agrega la posibilidad de realizar operaciones dentro de ellas e incluso invocar a una función:"
      ],
      "metadata": {
        "id": "5mgohzdN4KNJ"
      }
    },
    {
      "cell_type": "code",
      "source": [
        "print(f\"La resta de {calc['ent']} menos {calc['flot']} es: {numA - numB}\")\n",
        "print(f\"La resta de {calc['ent']} - {calc['flot']} - {calc['img']} es: {resta(**calc)}\")"
      ],
      "metadata": {
        "id": "FLQDtaK34eRs",
        "colab": {
          "base_uri": "https://localhost:8080/",
          "height": 183
        },
        "outputId": "8bfae429-bd43-4862-c6fd-4ac88f4415be"
      },
      "execution_count": null,
      "outputs": [
        {
          "output_type": "error",
          "ename": "NameError",
          "evalue": "ignored",
          "traceback": [
            "\u001b[0;31m---------------------------------------------------------------------------\u001b[0m",
            "\u001b[0;31mNameError\u001b[0m                                 Traceback (most recent call last)",
            "\u001b[0;32m<ipython-input-11-3b9d2c42a698>\u001b[0m in \u001b[0;36m<module>\u001b[0;34m\u001b[0m\n\u001b[0;32m----> 1\u001b[0;31m \u001b[0mprint\u001b[0m\u001b[0;34m(\u001b[0m\u001b[0;34mf\"La resta de {calc['ent']} menos {calc['flot']} es: {numA - numB}\"\u001b[0m\u001b[0;34m)\u001b[0m\u001b[0;34m\u001b[0m\u001b[0;34m\u001b[0m\u001b[0m\n\u001b[0m\u001b[1;32m      2\u001b[0m \u001b[0mprint\u001b[0m\u001b[0;34m(\u001b[0m\u001b[0;34mf\"La resta de {calc['ent']} - {calc['flot']} - {calc['img']} es: {resta(**calc)}\"\u001b[0m\u001b[0;34m)\u001b[0m\u001b[0;34m\u001b[0m\u001b[0;34m\u001b[0m\u001b[0m\n",
            "\u001b[0;31mNameError\u001b[0m: name 'calc' is not defined"
          ]
        }
      ]
    },
    {
      "cell_type": "markdown",
      "source": [
        "Con las cadenas es posible realizar:\n",
        "\n",
        "*   Multiplicación de una cadena por un número entero.\n",
        "*   Buscar si una cadena está contenida en otra.\n",
        "*   Convertir una cadena a su valor numérico y viceversa (este último caso sólo funciona con caráctres).\n",
        "*   Obtener el tamaño de una cadena.\n",
        "*   Conversión de clases.\n",
        "*   Indizarlas.\n",
        "*   Segmentar cadenas.\n",
        "\n",
        "\n",
        "\n"
      ],
      "metadata": {
        "id": "-EfHQdh67Aei"
      }
    },
    {
      "cell_type": "code",
      "source": [
        "print(\"Hola \" * 3)\n",
        "print(\"entero\" in cad3)\n",
        "print(chr(234))\n",
        "print(ord(\"$\"))\n",
        "print(len(cad4))"
      ],
      "metadata": {
        "id": "u8EX6wDJ7yp_",
        "colab": {
          "base_uri": "https://localhost:8080/"
        },
        "outputId": "020639c4-bb7b-49c0-a0f2-6119bb9e2924"
      },
      "execution_count": null,
      "outputs": [
        {
          "output_type": "stream",
          "name": "stdout",
          "text": [
            "Hola Hola Hola \n",
            "True\n",
            "ê\n",
            "36\n",
            "51\n"
          ]
        }
      ]
    },
    {
      "cell_type": "markdown",
      "source": [
        "Las cadenas en Python son una clase muy poderosa en Python y la cual dispone de numerosos métodos que incrementan la flexibilidad, uso y operaciones con este tipo de objeto. Para conocer los métodos e incluso más formas de formateo de cadenas, consulta la [documentación oficial](https://docs.python.org/3/library/stdtypes.html#string-methods)."
      ],
      "metadata": {
        "id": "RZfNqegOSbcq"
      }
    },
    {
      "cell_type": "markdown",
      "source": [
        "# **Operaciones con listas.**\n",
        "\n",
        "Algunas propiedades de las listas:\n",
        "\n",
        "*   Son ordenadas.\n",
        "*   Pueden contener distintos tipos de datos.\n",
        "*   Son iterables.\n",
        "*   Son mutables.\n",
        "*   Son dinámicas.\n",
        "\n",
        "Para acceder a los elementos de una lista, se utilizan los corchetes `[n]`, donde `n` es el índice del elemento al que queremos acceder. El tamaño de la lista va desde 0 hasta n - 1.\n"
      ],
      "metadata": {
        "id": "Y6vL-vdEHuuX"
      }
    },
    {
      "cell_type": "code",
      "source": [
        "lista = [38, \"Hola\", 3.1416, 45 +8j, [1, 2, 3, 4]]\n",
        "\n",
        "print(lista)\n",
        "print(lista[2])\n",
        "print(lista[4])"
      ],
      "metadata": {
        "id": "U_zK8stuJKOg",
        "colab": {
          "base_uri": "https://localhost:8080/"
        },
        "outputId": "f6971272-98e2-4cdd-8e5b-3a4540e3431a"
      },
      "execution_count": null,
      "outputs": [
        {
          "output_type": "stream",
          "name": "stdout",
          "text": [
            "[38, 'Hola', 3.1416, (45+8j), [1, 2, 3, 4]]\n",
            "3.1416\n",
            "[1, 2, 3, 4]\n"
          ]
        }
      ]
    },
    {
      "cell_type": "markdown",
      "source": [
        "Se puede recorres la lista del final hacía el principio utlizando numeros negativos, donde -1 es el úlitmo elemento, -2, el penúlitmo, etc.:"
      ],
      "metadata": {
        "id": "a72S9jVgJh9O"
      }
    },
    {
      "cell_type": "code",
      "source": [
        "print(lista[-1])\n",
        "print(lista[-2])\n",
        "print(lista[-3])"
      ],
      "metadata": {
        "id": "65Uw7723JwcV",
        "colab": {
          "base_uri": "https://localhost:8080/"
        },
        "outputId": "94fdbaef-c8bc-4544-b056-ca74eb682bd2"
      },
      "execution_count": null,
      "outputs": [
        {
          "output_type": "stream",
          "name": "stdout",
          "text": [
            "[1, 2, 3, 4]\n",
            "(45+8j)\n",
            "3.1416\n"
          ]
        }
      ]
    },
    {
      "cell_type": "markdown",
      "source": [
        "Para modificar un elemento de la lista, tan sólo es necesario asignar el nuevo valor al elemento correspondiente:"
      ],
      "metadata": {
        "id": "3MkC_jBOJ7BH"
      }
    },
    {
      "cell_type": "code",
      "source": [
        "lista[0] = 69\n",
        "print(lista)"
      ],
      "metadata": {
        "id": "HII7HkoLKeer",
        "colab": {
          "base_uri": "https://localhost:8080/"
        },
        "outputId": "089dec7d-cc60-40a9-b36a-7e39136c28ee"
      },
      "execution_count": null,
      "outputs": [
        {
          "output_type": "stream",
          "name": "stdout",
          "text": [
            "[69, 'Hola', 3.1416, (45+8j), [1, 2, 3, 4]]\n"
          ]
        }
      ]
    },
    {
      "cell_type": "markdown",
      "source": [
        "Para eliminar un elemento de la lista mediante su índice, se utiliza `del`:"
      ],
      "metadata": {
        "id": "YlfnsGV2Kqsy"
      }
    },
    {
      "cell_type": "code",
      "source": [
        "del lista[1]\n",
        "\n",
        "print(lista)"
      ],
      "metadata": {
        "id": "ytYksPsGLBnv",
        "colab": {
          "base_uri": "https://localhost:8080/"
        },
        "outputId": "669e1d9d-f4ab-4aef-81e1-8312af8f1471"
      },
      "execution_count": null,
      "outputs": [
        {
          "output_type": "stream",
          "name": "stdout",
          "text": [
            "[69, 3.1416, (45+8j), [1, 2, 3, 4]]\n"
          ]
        }
      ]
    },
    {
      "cell_type": "markdown",
      "source": [
        "Si se desea acceder a los elementos que forman parte de una lista que está dentro de una lista, se agregan tantos corchetes con su respectivo índice como listas internas se tengan:"
      ],
      "metadata": {
        "id": "f9fzrUOWLJne"
      }
    },
    {
      "cell_type": "code",
      "source": [
        "print(lista[3][2])"
      ],
      "metadata": {
        "id": "UrIHO65SLaRC",
        "colab": {
          "base_uri": "https://localhost:8080/"
        },
        "outputId": "be4eaa23-e3e1-4c04-f40c-e8417e05f2d8"
      },
      "execution_count": null,
      "outputs": [
        {
          "output_type": "stream",
          "name": "stdout",
          "text": [
            "3\n"
          ]
        }
      ]
    },
    {
      "cell_type": "markdown",
      "source": [
        "También con las listas, utilizando la sintaxis de `[n:m]` se pueden obtener sublistas y modificar multiples valores. Además las listas soportan el operador `+` que añade una lista a la otra y por otro lado, con una lista es posible asignar sus *n* elementos a n* *cantidad de variables independientes:"
      ],
      "metadata": {
        "id": "wE0ZbM1TLpW-"
      }
    },
    {
      "cell_type": "code",
      "source": [
        "lista2 = [\"Hola\", \"Hello\", \"Ohayoo\"]\n",
        "lista += lista2\n",
        "\n",
        "print(lista)\n",
        "print(lista[1:5])\n",
        "\n",
        "esp, ing, jap = lista[4:7]\n",
        "print(esp, ing, jap)"
      ],
      "metadata": {
        "id": "fU38WQILMXHZ",
        "colab": {
          "base_uri": "https://localhost:8080/"
        },
        "outputId": "0543653f-3dac-4984-ac0b-18e720600d9d"
      },
      "execution_count": null,
      "outputs": [
        {
          "output_type": "stream",
          "name": "stdout",
          "text": [
            "[69, 3.1416, (45+8j), [1, 2, 3, 4], 'Hola', 'Hello', 'Ohayoo']\n",
            "[3.1416, (45+8j), [1, 2, 3, 4], 'Hola']\n",
            "Hola Hello Ohayoo\n"
          ]
        }
      ]
    },
    {
      "cell_type": "markdown",
      "source": [
        "También es posible iterar sobre las listas utilizando ciclos para acceder a sus elementos, acompañarlos con su índice e incluso iterar varias listas al mismo tiempo:"
      ],
      "metadata": {
        "id": "zdbZ102kNydH"
      }
    },
    {
      "cell_type": "code",
      "source": [
        "for e in lista:\n",
        "  print(e)\n",
        "\n",
        "print(\"-----\")\n",
        "\n",
        "for indice, e in enumerate(lista):\n",
        "  print(indice, e)\n",
        "\n",
        "print(\"-----\")\n",
        "\n",
        "lista3 = [\"Español:\", \"Inglés:\", \"Japonés:\"]\n",
        "for(e1, e2) in zip(lista2, lista3):\n",
        "  print(e2, e1)"
      ],
      "metadata": {
        "id": "Iivv91rjOFLI",
        "colab": {
          "base_uri": "https://localhost:8080/"
        },
        "outputId": "2651dee4-26cf-4790-d3f4-0f680aba71e6"
      },
      "execution_count": null,
      "outputs": [
        {
          "output_type": "stream",
          "name": "stdout",
          "text": [
            "69\n",
            "3.1416\n",
            "(45+8j)\n",
            "[1, 2, 3, 4]\n",
            "Hola\n",
            "Hello\n",
            "Ohayoo\n",
            "-----\n",
            "0 69\n",
            "1 3.1416\n",
            "2 (45+8j)\n",
            "3 [1, 2, 3, 4]\n",
            "4 Hola\n",
            "5 Hello\n",
            "6 Ohayoo\n",
            "-----\n",
            "Español: Hola\n",
            "Inglés: Hello\n",
            "Japonés: Ohayoo\n"
          ]
        }
      ]
    },
    {
      "cell_type": "markdown",
      "source": [
        "**NOTA:** La función `zip()` crea un objeto *Zip* el cual es un iterador de tuplas donde cada elemento que se le pase como argumento, es emparejado con el del otro parámetro respetando posición en la que se encuentran.\n",
        "\n",
        "Además de las operaciones básicas anteriores, las listas tiene sus propios métodos que también realizan operaciones sobre ellas:\n",
        "\n",
        "\n",
        "*  list.append(x)\n",
        "*  list.extend(iterable)\n",
        "*  list.insert(i, x)\n",
        "*  list.remove(x)\n",
        "*  list.pop([i])\n",
        "*  list.clear()\n",
        "*  list.index(x[, start[, end]])\n",
        "*  list.count(x)\n",
        "*  list.sort(*, key=None, reverse=False)\n",
        "*  list.reverse()\n",
        "*  list.copy()\n",
        "\n",
        "Para conocer la manera correcta de utilzar los métodos anteriores, revisa la  [documentación oficial de Python sobre listas.](https://docs.python.org/3/tutorial/datastructures.html)\n",
        "\n",
        "## ***Ejercicio:***\n",
        "\n",
        "Después de haber revisado la documentación oficial, en el siguiente apartado añade ejemplos (al menos uno por cada método), del uso de dichas funciones, puedes utlilzar las listas creadas aterioremente o bien definir las propias, sé claro y documenta el código que realices:"
      ],
      "metadata": {
        "id": "C830BXNJPpAg"
      }
    },
    {
      "cell_type": "code",
      "source": [
        "#Añade ejemplos del uso de los métodos de las listas.\n",
        "#Añade ejemplos del uso de los métodos de las listas.\n",
        "#Lista original\n",
        "carreras_noingenieriles = []\n",
        "\n",
        "\n",
        "#Agrear elementos a la lista carreras (list.append)\n",
        "carreras_noingenieriles.append('Administración')\n",
        "carreras_noingenieriles.append('Arquitectura')\n",
        "carreras_noingenieriles.append('Gastronomía')\n",
        "print(carreras_noingenieriles)\n",
        "\n",
        "\n",
        "#Agregar todos los elementos de la lista carreras_noingenieriles a carreras_ingenieriles (list.extend)\n",
        "carreras_ingenieriles = ['Ingeniería Industrial',\n",
        "                         'Ingeniería en Industrias Alimentarias',\n",
        "                         'Ingeniería Electromecánica',\n",
        "                         'Ingeniería en Sistemas Computacionales']\n",
        "\n",
        "carreras_ingenieriles.extend(carreras_noingenieriles)\n",
        "print('Resultado después del aplicar list.extend: ', carreras_ingenieriles)\n",
        "\n",
        "\n",
        "#Insertar elemento en una posición específica de la lista, con list.insert\n",
        "carreras_ingenieriles.insert(0, 'Ingeniería en Gestión Empresarial')\n",
        "print('Resultado después de aplicar list.insert: ',carreras_ingenieriles)\n",
        "\n",
        "\n",
        "#Remover un elemento especificado de la lista, con list.remove\n",
        "carreras_ingenieriles.remove('Administración')\n",
        "print('Resultado después de aplicar list.remove: ',carreras_ingenieriles)\n",
        "\n",
        "\n",
        "#Remover un elemento mediante el uso de un índice, con list.pop(i)\n",
        "carreras_ingenieriles.pop(2)\n",
        "print('Resultado después de aplicar list.pop: ',carreras_ingenieriles)\n",
        "\n",
        "\n",
        "#Se vacían todos los elementos de la lista, pero la lista siguen existiendo, con list.clear() \n",
        "carreras_noingenieriles.clear()\n",
        "print('Resultado después de aplicar list.clear: ',carreras_noingenieriles)\n",
        "\n",
        "\n",
        "#Regresa la posición dentro de la lista, de un valor dado, con list.index\n",
        "posicion = carreras_ingenieriles.index('Ingeniería Industrial',0,5)\n",
        "print('Resultado después de aplicar list.index: ',posicion)\n",
        "\n",
        "\n",
        "#Regresa el número de veces que un elemento dado, aparece dentro de la lista, con list.count\n",
        "marcas = ['Microsoft','Apple','Cisco','Mikrotik','HP','Dell','Cisco']\n",
        "conteo = marcas.count('Cisco')\n",
        "print('El valor Cisco, aparece ', conteo, 'veces en la lista')\n",
        "\n",
        "\n",
        "#Ordena los elementos de una lista en orden ascendente o descendente, con list.sort\n",
        "marcas.sort()\n",
        "print('Lista de marcas ordenada en orden ascendente: ', marcas)\n",
        "\n",
        "#marcas.sort(reverse=True)\n",
        "#print('Lista de marcas ordenada en orden descendente: ', marcas)\n",
        "\n",
        "marcas.reverse()\n",
        "print('Lista de marcas ordenada en orden descendente usando list.reverse: ', marcas)\n",
        "\n",
        "\n",
        "#Realizar la copia de una lista, usando list.copyright()\n",
        "marcas2 = marcas.copy()\n",
        "print('Desplegado después de copiar la lista marcas en marca2: ', marcas2)\n",
        "\n",
        "\n",
        "\n",
        "\n",
        "\n",
        "\n",
        "\n"
      ],
      "metadata": {
        "id": "TrR8t6b-SJK8",
        "colab": {
          "base_uri": "https://localhost:8080/"
        },
        "outputId": "a0a957e8-7fb6-483b-80dc-42e3209bfa9d"
      },
      "execution_count": 12,
      "outputs": [
        {
          "output_type": "stream",
          "name": "stdout",
          "text": [
            "['Administración', 'Arquitectura', 'Gastronomía']\n",
            "Resultado después del aplicar list.extend:  ['Ingeniería Industrial', 'Ingeniería en Industrias Alimentarias', 'Ingeniería Electromecánica', 'Ingeniería en Sistemas Computacionales', 'Administración', 'Arquitectura', 'Gastronomía']\n",
            "Resultado después de aplicar list.insert:  ['Ingeniería en Gestión Empresarial', 'Ingeniería Industrial', 'Ingeniería en Industrias Alimentarias', 'Ingeniería Electromecánica', 'Ingeniería en Sistemas Computacionales', 'Administración', 'Arquitectura', 'Gastronomía']\n",
            "Resultado después de aplicar list.remove:  ['Ingeniería en Gestión Empresarial', 'Ingeniería Industrial', 'Ingeniería en Industrias Alimentarias', 'Ingeniería Electromecánica', 'Ingeniería en Sistemas Computacionales', 'Arquitectura', 'Gastronomía']\n",
            "Resultado después de aplicar list.pop:  ['Ingeniería en Gestión Empresarial', 'Ingeniería Industrial', 'Ingeniería Electromecánica', 'Ingeniería en Sistemas Computacionales', 'Arquitectura', 'Gastronomía']\n",
            "Resultado después de aplicar list.clear:  []\n",
            "Resultado después de aplicar list.index:  1\n",
            "El valor Cisco, aparece  2 veces en la lista\n",
            "Lista de marcas ordenada en orden ascendente:  ['Apple', 'Cisco', 'Cisco', 'Dell', 'HP', 'Microsoft', 'Mikrotik']\n",
            "Lista de marcas ordenada en orden descendente usando list.reverse:  ['Mikrotik', 'Microsoft', 'HP', 'Dell', 'Cisco', 'Cisco', 'Apple']\n",
            "Desplegado después de copiar la lista marcas en marca2:  ['Mikrotik', 'Microsoft', 'HP', 'Dell', 'Cisco', 'Cisco', 'Apple']\n"
          ]
        }
      ]
    },
    {
      "cell_type": "markdown",
      "source": [
        "***ANOTA Y COMPARTE TUS REFLEXIONES DE LOS TEMAS VISTOS ANTERIORMENTE:***\n",
        "______________________________________________________________________________\n",
        "_______________________________________________________________________________\n",
        "_______________________________________________________________________________\n",
        "_______________________________________________________________________________\n",
        "_______________________________________________________________________________"
      ],
      "metadata": {
        "id": "SG9zH2AYMsnV"
      }
    },
    {
      "cell_type": "markdown",
      "source": [
        "Definitivamente, el uso de listas y sus métodos o funciones, facilita y robustece en gran medida del desarrollo de aplicaciones para la manipulación de datos, especialmente, datos que son extraídos de bases de datos."
      ],
      "metadata": {
        "id": "zsdUdF9w-pew"
      }
    }
  ]
}