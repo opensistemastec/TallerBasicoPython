{
  "nbformat": 4,
  "nbformat_minor": 0,
  "metadata": {
    "colab": {
      "provenance": [],
      "include_colab_link": true
    },
    "kernelspec": {
      "name": "python3",
      "display_name": "Python 3"
    },
    "language_info": {
      "name": "python"
    }
  },
  "cells": [
    {
      "cell_type": "markdown",
      "metadata": {
        "id": "view-in-github",
        "colab_type": "text"
      },
      "source": [
        "<a href=\"https://colab.research.google.com/github/opensistemastec/TallerBasicoPython/blob/master/Alejandro_Ur%C3%ADas_Castro_Unidad2_Python_sin_CdConstituci%C3%B3n.ipynb\" target=\"_parent\"><img src=\"https://colab.research.google.com/assets/colab-badge.svg\" alt=\"Open In Colab\"/></a>"
      ]
    },
    {
      "cell_type": "markdown",
      "source": [
        "\n",
        "# ***PROGRAMACIÓN PYTHON***\n",
        "\n",
        "---\n",
        "\n",
        "\n",
        "\n"
      ],
      "metadata": {
        "id": "hvOSDIk18k-O"
      }
    },
    {
      "cell_type": "markdown",
      "source": [
        "# New Section"
      ],
      "metadata": {
        "id": "rWAr1k4MdRLv"
      }
    },
    {
      "cell_type": "markdown",
      "source": [
        "# **TALLER BÁSICO DE PYTHON**\n",
        "# **UNIDAD 2 - Lazos e iteraciones.**\n",
        "\n",
        "---\n",
        "## Ejecución condicional: if, elif y else.\n",
        "\n",
        "Como en cualquier lenguaje de programación, las estructuras de control en Python permiten cambiar el flujo de ejecución de los programas.\n",
        "\n",
        "La palabra reservada *if* permite direccionar el flujo de ejecución\n",
        "del programa dependiendo de que alguna condición puede ser\n",
        "verdadera o falsa.\n",
        "\n",
        "La sintaxis es la siguiente: \n",
        "\n",
        "**if** *condición*:\n",
        "\n",
        "> *acción1*\n",
        "\n",
        "> *accion2*\n",
        "\n",
        "> ...\n",
        "\n",
        "> *accionM*\n",
        "\n",
        "\n",
        "Como ejemplo práctico, hay que realizar un programa que resuelva ecuaciones de primer grado.\n"
      ],
      "metadata": {
        "id": "ORKz6k_BKrNv"
      }
    },
    {
      "cell_type": "code",
      "execution_count": null,
      "metadata": {
        "id": "d0NP7wrbKqe-",
        "colab": {
          "base_uri": "https://localhost:8080/",
          "height": 252
        },
        "outputId": "c1849433-136e-4a1a-98ca-293a7374c2ab"
      },
      "outputs": [
        {
          "name": "stdout",
          "output_type": "stream",
          "text": [
            "Valor de a: 0\n",
            "Valor de b: 2\n"
          ]
        },
        {
          "output_type": "error",
          "ename": "ZeroDivisionError",
          "evalue": "ignored",
          "traceback": [
            "\u001b[0;31m---------------------------------------------------------------------------\u001b[0m",
            "\u001b[0;31mZeroDivisionError\u001b[0m                         Traceback (most recent call last)",
            "\u001b[0;32m<ipython-input-4-3b50c93d6b9e>\u001b[0m in \u001b[0;36m<module>\u001b[0;34m\u001b[0m\n\u001b[1;32m      2\u001b[0m \u001b[0mb\u001b[0m \u001b[0;34m=\u001b[0m \u001b[0mfloat\u001b[0m\u001b[0;34m(\u001b[0m\u001b[0minput\u001b[0m\u001b[0;34m(\u001b[0m\u001b[0;34m\"Valor de b: \"\u001b[0m\u001b[0;34m)\u001b[0m\u001b[0;34m)\u001b[0m\u001b[0;34m\u001b[0m\u001b[0;34m\u001b[0m\u001b[0m\n\u001b[1;32m      3\u001b[0m \u001b[0;34m\u001b[0m\u001b[0m\n\u001b[0;32m----> 4\u001b[0;31m \u001b[0mx\u001b[0m \u001b[0;34m=\u001b[0m \u001b[0;34m-\u001b[0m\u001b[0mb\u001b[0m\u001b[0;34m/\u001b[0m\u001b[0ma\u001b[0m\u001b[0;34m\u001b[0m\u001b[0;34m\u001b[0m\u001b[0m\n\u001b[0m\u001b[1;32m      5\u001b[0m \u001b[0mprint\u001b[0m\u001b[0;34m(\u001b[0m\u001b[0;34m\"Solución: \"\u001b[0m\u001b[0;34m,\u001b[0m \u001b[0mx\u001b[0m\u001b[0;34m)\u001b[0m\u001b[0;34m\u001b[0m\u001b[0;34m\u001b[0m\u001b[0m\n",
            "\u001b[0;31mZeroDivisionError\u001b[0m: float division by zero"
          ]
        }
      ],
      "source": [
        "a = float(input(\"Valor de a: \"))\n",
        "b = float(input(\"Valor de b: \"))\n",
        "\n",
        "x = -b/a\n",
        "print(\"Solución: \", x)"
      ]
    },
    {
      "cell_type": "markdown",
      "source": [
        "Para corregirlo se añadirán condiciones if para evaluar las posibles condiciones en las que puede incurrir el código. Probarlo con valores positivos, negativos, a en cero y b en cero.\n",
        "\n",
        "**NOTA:** Observe las tabulaciones que están dentro de las condiciones if."
      ],
      "metadata": {
        "id": "hy7HGVaNSNjK"
      }
    },
    {
      "cell_type": "code",
      "source": [
        "a = float(input(\"Valor de a: \"))\n",
        "b = float(input(\"Valor de b: \"))\n",
        "\n",
        "if a != 0:\n",
        "  x = -b / a\n",
        "  print(\"Solución: \", x)\n",
        "\n",
        "if a == 0:\n",
        "  if b != 0:\n",
        "    print(\"La ecuación no tiene solución.\")\n",
        "  if b == 0:\n",
        "    print(\"La ecuación tiene infinitas soluciones.\")\n"
      ],
      "metadata": {
        "id": "D6SDFtRcTQSQ",
        "colab": {
          "base_uri": "https://localhost:8080/"
        },
        "outputId": "2dbcf67d-f1fa-4e99-8f5b-36871a82ec09"
      },
      "execution_count": null,
      "outputs": [
        {
          "output_type": "stream",
          "name": "stdout",
          "text": [
            "Valor de a: 0\n",
            "Valor de b: 0\n",
            "La ecuación tiene infinitas soluciones.\n"
          ]
        }
      ]
    },
    {
      "cell_type": "markdown",
      "source": [
        "Si es necesario ejecutar acciones distintas cuando la evaluación\n",
        "de la condición sea verdadera o falsa. Se puede utilizar la\n",
        "palabra reservada *else*."
      ],
      "metadata": {
        "id": "2mnjA_BqUEk0"
      }
    },
    {
      "cell_type": "code",
      "source": [
        "a = float(input(\"Valor de a: \"))\n",
        "b = float(input(\"Valor de b: \"))\n",
        "\n",
        "if a != 0:\n",
        "  x = -b / a\n",
        "  print(\"Solución: \", x)\n",
        "else:\n",
        "  if b != 0:\n",
        "    print(\"La ecuación no tiene solución.\")\n",
        "  else:\n",
        "    print(\"La ecuación tiene infinitas soluciones.\")"
      ],
      "metadata": {
        "id": "6wMkQwXTUL_G",
        "colab": {
          "base_uri": "https://localhost:8080/"
        },
        "outputId": "cad6a1aa-f421-41bd-beec-21f779152616"
      },
      "execution_count": null,
      "outputs": [
        {
          "output_type": "stream",
          "name": "stdout",
          "text": [
            "Valor de a: 0\n",
            "Valor de b: 1\n",
            "La ecuación no tiene solución.\n"
          ]
        }
      ]
    },
    {
      "cell_type": "markdown",
      "source": [
        "También es posible crear estructuras condicionales múltiples con la palabra reservada *elif*."
      ],
      "metadata": {
        "id": "h_4aurGKUbtr"
      }
    },
    {
      "cell_type": "code",
      "source": [
        "a = 40\n",
        "b = 41\n",
        "\n",
        "if a < b:\n",
        "  print(a, \" es menos que \", b)\n",
        "elif a > b:\n",
        "  print(a, \" es mayo que \", b)\n",
        "else:\n",
        "  print(a, \" es igual que \", b)"
      ],
      "metadata": {
        "id": "z0V18wuzU-1e",
        "colab": {
          "base_uri": "https://localhost:8080/"
        },
        "outputId": "d02e1822-c55f-4a47-941f-2c41866bb249"
      },
      "execution_count": null,
      "outputs": [
        {
          "output_type": "stream",
          "name": "stdout",
          "text": [
            "40  es menos que  41\n"
          ]
        }
      ]
    },
    {
      "cell_type": "markdown",
      "source": [
        "### Operador ternario.\n",
        "\n",
        "En Python existen también el operador ternario, se trata de una clúsula *if - else* que se define dentro de una sola línea, incluso puede ser utilizada dentro de un print(). La estructura es la siguiente:\n",
        "\n",
        "*`[código si se cumple] if [condición] else [código si no se cumple]`*\n",
        "\n"
      ],
      "metadata": {
        "id": "1gIUVTC7V1BT"
      }
    },
    {
      "cell_type": "code",
      "source": [
        "x = 5\n",
        "print(\"Es 5\" if x == 5 else \"No es 5\")"
      ],
      "metadata": {
        "id": "THOK1ewLZqkL",
        "colab": {
          "base_uri": "https://localhost:8080/"
        },
        "outputId": "54497828-b6af-4ca1-f869-8ee05de71888"
      },
      "execution_count": null,
      "outputs": [
        {
          "output_type": "stream",
          "name": "stdout",
          "text": [
            "Es 5\n"
          ]
        }
      ]
    },
    {
      "cell_type": "markdown",
      "source": [
        "También se puede utilizar para asignar valores a variables:"
      ],
      "metadata": {
        "id": "O3IIYOW5Z-ZP"
      }
    },
    {
      "cell_type": "code",
      "source": [
        "a = 10\n",
        "b = 5\n",
        "c = a / b if b != 0 else -1\n",
        "print(c)"
      ],
      "metadata": {
        "id": "nsx8LJRfaDY8",
        "colab": {
          "base_uri": "https://localhost:8080/"
        },
        "outputId": "1143aa1d-de46-4181-927d-5e361d080f27"
      },
      "execution_count": null,
      "outputs": [
        {
          "output_type": "stream",
          "name": "stdout",
          "text": [
            "2.0\n"
          ]
        }
      ]
    },
    {
      "cell_type": "markdown",
      "source": [
        "\n",
        "\n",
        "---\n",
        "\n",
        "\n",
        "## Iteraciones: while, for.\n",
        "\n",
        "\n",
        "### Ciclo for.\n",
        "\n",
        "Este ciclo se caracteriza por tener un número de iteraciones definido de antemano. No tiene un candición de paro , más bien contiene un *iterable* que define las veces que se ejecutará el código. El siguiente ejemplo representa un ciclo representa un contador:"
      ],
      "metadata": {
        "id": "h-uOUZdlbDRM"
      }
    },
    {
      "cell_type": "code",
      "source": [
        "for cont in range(0, 6, 1):\n",
        "  print(\"El número es: \"+ str(cont))\n",
        "print(\"Fin de ciclo\")"
      ],
      "metadata": {
        "id": "lp3beJGPonqH",
        "colab": {
          "base_uri": "https://localhost:8080/"
        },
        "outputId": "dbf3ed82-63ea-4925-b33c-b8db3a768ce5"
      },
      "execution_count": null,
      "outputs": [
        {
          "output_type": "stream",
          "name": "stdout",
          "text": [
            "El número es: 0\n",
            "El número es: 1\n",
            "El número es: 2\n",
            "El número es: 3\n",
            "El número es: 4\n",
            "El número es: 5\n",
            "Fin de ciclo\n"
          ]
        }
      ]
    },
    {
      "cell_type": "markdown",
      "source": [
        "### Iterables e iteradores\n",
        "\n",
        "Los **iterables** son aquellos objetos que como su nombre indica pueden ser iterados, lo que dicho de otra forma es, que puedan ser indexados. Si piensas en una`list`, podemos indexarlo con `lista[1]` por ejemplo, por lo que sería un iterable. Algunos ejemplos son: listas, tuplas, cadenas o diccionarios.\n",
        "\n",
        "Los **iteradores** son objetos que hacen referencia a un elemento, y que tienen un método `next` que permite hacer referencia al siguiente.\n",
        "\n",
        "El ciclo for es capaz de recorrer los objetos iterables mediante la siguiente sintaxis:\n",
        "\n",
        "```\n",
        "for <variable> in <iterable>:\n",
        "    <Código>\n",
        "```\n",
        "\n",
        "Para saber si un objeto es iterable, se puede usar la función `isinstance()`:"
      ],
      "metadata": {
        "id": "8jVa4toCo-lK"
      }
    },
    {
      "cell_type": "code",
      "source": [
        "from collections.abc import Iterable\n",
        "lista = [1, 2, 3, 4]\n",
        "cadena = \"Python\"\n",
        "numero =  10\n",
        "conjunto = {\"Platano\", \"Manzana\",\"Ceraza\"}\n",
        "\n",
        "print(isinstance(lista, Iterable))\n",
        "print(isinstance(cadena, Iterable))\n",
        "print(isinstance(numero, Iterable))\n",
        "print(isinstance(conjunto, Iterable))"
      ],
      "metadata": {
        "id": "KCeQcbX1zorw",
        "colab": {
          "base_uri": "https://localhost:8080/"
        },
        "outputId": "de73b70a-a256-41c9-c2cf-0c2b431dfad5"
      },
      "execution_count": null,
      "outputs": [
        {
          "output_type": "stream",
          "name": "stdout",
          "text": [
            "True\n",
            "True\n",
            "False\n",
            "True\n"
          ]
        }
      ]
    },
    {
      "cell_type": "markdown",
      "source": [
        "La función `iter()` puede ser llamada desde un objeto que sea iterable y retorna un iterador, que es una variable que hace referencia al objeto iterable original y permite acceder a sus elementos con `next()`. Cuando coimienza, el iterador apunta afuera de la lista, y no hace referencia al primer elemento hasta que se llema a `next()` por primera vez."
      ],
      "metadata": {
        "id": "5GLAVL7x0qu7"
      }
    },
    {
      "cell_type": "code",
      "source": [
        "it = iter(cadena)\n",
        "print(next(it))\n",
        "print(next(it))\n",
        "print(next(it))"
      ],
      "metadata": {
        "id": "QZjKMRJY1Q0F",
        "colab": {
          "base_uri": "https://localhost:8080/"
        },
        "outputId": "6f8238cf-3ca9-44fc-9133-f96b3188e4b0"
      },
      "execution_count": null,
      "outputs": [
        {
          "output_type": "stream",
          "name": "stdout",
          "text": [
            "P\n",
            "y\n",
            "t\n"
          ]
        }
      ]
    },
    {
      "cell_type": "markdown",
      "source": [],
      "metadata": {
        "id": "dkd1MPbkOOiH"
      }
    },
    {
      "cell_type": "markdown",
      "source": [
        "Existen iteradores para diferentes clases:\n",
        "\n",
        "`str_iterator` para cadenas.\n",
        "\n",
        "`list_iterator` para listas.\n",
        "\n",
        "`tuple_iterator` para tuplas.\n",
        "\n",
        "`set_iterator` para sets.\n",
        "\n",
        "`dict_keyiterator` para diccionarios.\n",
        "\n",
        "El ciclo for, como ya se mencionó anteriormente, permite recorrer objetos iterables, ejemplos:"
      ],
      "metadata": {
        "id": "OOaU_IcJ1frS"
      }
    },
    {
      "cell_type": "code",
      "source": [
        "for i in cadena:\n",
        "  print(i)"
      ],
      "metadata": {
        "id": "Lk4xHnQb2or-",
        "colab": {
          "base_uri": "https://localhost:8080/"
        },
        "outputId": "dacea571-bbf0-429a-c767-3f31ebcbcb92"
      },
      "execution_count": null,
      "outputs": [
        {
          "output_type": "stream",
          "name": "stdout",
          "text": [
            "P\n",
            "y\n",
            "t\n",
            "h\n",
            "o\n",
            "n\n"
          ]
        }
      ]
    },
    {
      "cell_type": "code",
      "source": [
        "for i in conjunto:\n",
        "  print(i)"
      ],
      "metadata": {
        "id": "Q0KL4TAk22os",
        "colab": {
          "base_uri": "https://localhost:8080/"
        },
        "outputId": "32eac68e-2afa-4656-f31d-c5fc3d66fc37"
      },
      "execution_count": null,
      "outputs": [
        {
          "output_type": "stream",
          "name": "stdout",
          "text": [
            "Manzana\n",
            "Platano\n",
            "Ceraza\n"
          ]
        }
      ]
    },
    {
      "cell_type": "markdown",
      "source": [
        "La función `range()` genera una secuencia de números que van desde 0 por defecto hasta el número que se pasa como parámetro menos 1. En realidad, se pueden pasar hasta tres parámetros separados por coma, donde el primer es el inicio de la secuencia, el segundo el final y el tercero el salto que se desea entre números. Por defecto se empieza en 0 y el salto es de 1:\n",
        "\n",
        "`range(inicio, fin, salto)`"
      ],
      "metadata": {
        "id": "C72VB5o13Yq9"
      }
    },
    {
      "cell_type": "code",
      "source": [
        "for i in range(5, 20, 3):\n",
        "  print(i)"
      ],
      "metadata": {
        "id": "9Cs82QqR4aGe",
        "colab": {
          "base_uri": "https://localhost:8080/"
        },
        "outputId": "8146492d-afb5-485c-f0fb-d15036bfe422"
      },
      "execution_count": null,
      "outputs": [
        {
          "output_type": "stream",
          "name": "stdout",
          "text": [
            "5\n",
            "8\n",
            "11\n",
            "14\n",
            "17\n"
          ]
        }
      ]
    },
    {
      "cell_type": "code",
      "source": [],
      "metadata": {
        "id": "bRq9nUcM4cQD"
      },
      "execution_count": null,
      "outputs": []
    },
    {
      "cell_type": "markdown",
      "source": [
        "Los ciclos `for` también pueden anidarse, como en cualquier lenguaje de programación:"
      ],
      "metadata": {
        "id": "SvTghbBV7QJZ"
      }
    },
    {
      "cell_type": "code",
      "source": [
        "lista = [[56, 34, 1],\n",
        "         [12, 4, 5],\n",
        "         [9, 4, 2]]\n",
        "print(lista, \"\\n\")\n",
        "\n",
        "for i in lista:\n",
        "  print(i)\n",
        "\n",
        "print(\"For anidado: \")\n",
        "\n",
        "for i in lista:\n",
        "    for j in i:\n",
        "      print(j)"
      ],
      "metadata": {
        "id": "id-E0OHJ7fuE",
        "colab": {
          "base_uri": "https://localhost:8080/"
        },
        "outputId": "6a2de508-7744-42c6-d2ff-7204fe1ce0f2"
      },
      "execution_count": null,
      "outputs": [
        {
          "output_type": "stream",
          "name": "stdout",
          "text": [
            "[[56, 34, 1], [12, 4, 5], [9, 4, 2]] \n",
            "\n",
            "[56, 34, 1]\n",
            "[12, 4, 5]\n",
            "[9, 4, 2]\n",
            "For anidado: \n",
            "56\n",
            "34\n",
            "1\n",
            "12\n",
            "4\n",
            "5\n",
            "9\n",
            "4\n",
            "2\n"
          ]
        }
      ]
    },
    {
      "cell_type": "markdown",
      "source": [
        "## Ciclo while\n",
        "\n",
        "EL ciclo while repetirá las sentencias dentro de él, mientras se cumpla la condición especificada."
      ],
      "metadata": {
        "id": "UzmhbaSt3M2H"
      }
    },
    {
      "cell_type": "code",
      "source": [
        "x = 0\n",
        "while x < 6:\n",
        "  print(\"Valor de contador: \", x)\n",
        "  x += 1\n",
        "\n",
        "print(\"Fin de ciclo\")"
      ],
      "metadata": {
        "id": "7QhxewRQ5QXr",
        "colab": {
          "base_uri": "https://localhost:8080/"
        },
        "outputId": "7385cc00-a746-42e5-8317-7e63a2bb408a"
      },
      "execution_count": null,
      "outputs": [
        {
          "output_type": "stream",
          "name": "stdout",
          "text": [
            "Valor de contador:  0\n",
            "Valor de contador:  1\n",
            "Valor de contador:  2\n",
            "Valor de contador:  3\n",
            "Valor de contador:  4\n",
            "Valor de contador:  5\n",
            "Fin de ciclo\n"
          ]
        }
      ]
    },
    {
      "cell_type": "markdown",
      "source": [
        "También es posible escribir ciclos while en una sóla línea."
      ],
      "metadata": {
        "id": "is175SQ25my4"
      }
    },
    {
      "cell_type": "code",
      "source": [
        "x = 6\n",
        "while x > 0: print(\"Valor de contador: \", x); x -= 1\n",
        "\n",
        "print(\"Fin de ciclo\")"
      ],
      "metadata": {
        "id": "gSGf-US-5v51",
        "colab": {
          "base_uri": "https://localhost:8080/"
        },
        "outputId": "e62ab787-b696-4d24-cd85-083523d9b612"
      },
      "execution_count": null,
      "outputs": [
        {
          "output_type": "stream",
          "name": "stdout",
          "text": [
            "Valor de contador:  6\n",
            "Valor de contador:  5\n",
            "Valor de contador:  4\n",
            "Valor de contador:  3\n",
            "Valor de contador:  2\n",
            "Valor de contador:  1\n",
            "Fin de ciclo\n"
          ]
        }
      ]
    },
    {
      "cell_type": "markdown",
      "source": [
        "También permite recorrer algún elemento iterable mientras existan elementos en él, por ejemplo, una lista y en cada iteración se va eliminando un dato:"
      ],
      "metadata": {
        "id": "zA1soQIf6Blf"
      }
    },
    {
      "cell_type": "code",
      "source": [
        "x = [\"Uno\", \"Dos\", \"Tres\"]\n",
        "while x:\n",
        "  x.pop(0) #Obtenga el elemento 0 de la lista\n",
        "  print(x)"
      ],
      "metadata": {
        "id": "V8xuzrnH6OHq",
        "colab": {
          "base_uri": "https://localhost:8080/"
        },
        "outputId": "ebe8281d-e6cb-41cc-fcec-6ddba65e814d"
      },
      "execution_count": null,
      "outputs": [
        {
          "output_type": "stream",
          "name": "stdout",
          "text": [
            "['Dos', 'Tres']\n",
            "['Tres']\n",
            "[]\n"
          ]
        }
      ]
    },
    {
      "cell_type": "markdown",
      "source": [
        "En Python, es posible mezclar la palabra reservada `else`, con el `while`. Servirá para ejecutar código una vez que el ciclo allá terminado normalmente:"
      ],
      "metadata": {
        "id": "39fdoJ1D6yId"
      }
    },
    {
      "cell_type": "code",
      "source": [
        "x = 0\n",
        "while x < 6:\n",
        "  print(\"Valor de contador:\", x)\n",
        "  x += 1\n",
        "else:\n",
        "  print(\"Fin del ciclo\")"
      ],
      "metadata": {
        "id": "RoZNYls067TJ",
        "colab": {
          "base_uri": "https://localhost:8080/"
        },
        "outputId": "7d8caf80-7d9f-475a-fcfd-0afa510bef21"
      },
      "execution_count": null,
      "outputs": [
        {
          "output_type": "stream",
          "name": "stdout",
          "text": [
            "Valor de contador: 0\n",
            "Valor de contador: 1\n",
            "Valor de contador: 2\n",
            "Valor de contador: 3\n",
            "Valor de contador: 4\n",
            "Valor de contador: 5\n",
            "Fin del ciclo\n"
          ]
        }
      ]
    },
    {
      "cell_type": "markdown",
      "source": [
        "Como el ciclo `while` ejecuta las sentencias en su interior cuando la condición es verdadera, se deberá tener cuidado de no generar ciclos infinitos, a menos que sea requerido por el programa a realizar. El siguiente ejemplo es válido, pero ocasionará que el programa quedé \"colgado\" infinitamente:\n",
        "```\n",
        "while True:\n",
        "  print(\"hola\")\n",
        "```"
      ],
      "metadata": {
        "id": "pRd6tSDV8G__"
      }
    },
    {
      "cell_type": "markdown",
      "source": [
        "## Modificación de ciclos.\n",
        "\n",
        "`Break` permite detener la ejecución del ciclo. Una vez que el interprete encuentre la palabra, el ciclo terminará, sin embargo se puede considerar que es un final forzado.\n",
        "\n",
        "Se puede utilizar tanto con ciclos `for` y `while`. Comúnmente se usa para establecer una condición de parada del ciclo y así evitar consumir ciclos de reloj de la computadora:"
      ],
      "metadata": {
        "id": "-214nBsp9I_P"
      }
    },
    {
      "cell_type": "code",
      "source": [
        "for letra in cadena:\n",
        "  if letra == \"h\":\n",
        "    print(\"Se encontró la h\")\n",
        "    break\n",
        "  print(letra)"
      ],
      "metadata": {
        "id": "S2clWJf6Gbww",
        "colab": {
          "base_uri": "https://localhost:8080/"
        },
        "outputId": "86b9261f-e29e-4780-8efb-d123bd645747"
      },
      "execution_count": null,
      "outputs": [
        {
          "output_type": "stream",
          "name": "stdout",
          "text": [
            "P\n",
            "y\n",
            "t\n",
            "Se encontró la h\n"
          ]
        }
      ]
    },
    {
      "cell_type": "code",
      "source": [
        "x = 5\n",
        "\n",
        "while True:\n",
        "  x -= 1\n",
        "  print(x)\n",
        "\n",
        "  if x == -5:\n",
        "    break"
      ],
      "metadata": {
        "id": "5412fI7IWiwr",
        "colab": {
          "base_uri": "https://localhost:8080/"
        },
        "outputId": "1df6b4c7-01e3-4357-a6fe-980005712a88"
      },
      "execution_count": null,
      "outputs": [
        {
          "output_type": "stream",
          "name": "stdout",
          "text": [
            "4\n",
            "3\n",
            "2\n",
            "1\n",
            "0\n",
            "-1\n",
            "-2\n",
            "-3\n",
            "-4\n",
            "-5\n"
          ]
        }
      ]
    },
    {
      "cell_type": "markdown",
      "source": [
        "El siguiente ejemplo muestra como un ciclo infinito se puede detener con una condición y un sentencia `break`:"
      ],
      "metadata": {
        "id": "V01ic2svGlTQ"
      }
    },
    {
      "cell_type": "code",
      "source": [],
      "metadata": {
        "id": "u085-tTgGvU2"
      },
      "execution_count": null,
      "outputs": []
    },
    {
      "cell_type": "markdown",
      "source": [
        "Si `break` se encuentra dentro de ciclos anidados, únicamente detendŕa el ciclo en el que se encuentra:"
      ],
      "metadata": {
        "id": "1TdVnd3KHjQ7"
      }
    },
    {
      "cell_type": "code",
      "source": [
        "for i in range(0, 4):\n",
        "  for j in range(0, 4):\n",
        "    break\n",
        "  print(i,j)"
      ],
      "metadata": {
        "id": "rJ10913nHqDg",
        "colab": {
          "base_uri": "https://localhost:8080/"
        },
        "outputId": "e1031d9b-d37f-41b5-ba63-659642406956"
      },
      "execution_count": null,
      "outputs": [
        {
          "output_type": "stream",
          "name": "stdout",
          "text": [
            "0 0\n",
            "1 0\n",
            "2 0\n",
            "3 0\n"
          ]
        }
      ]
    },
    {
      "cell_type": "markdown",
      "source": [
        "La otra sentencia que permite modificar los ciclos en Python es la palabra reservada `continue`. Ésta permite que dentro de un ciclo se \"salte\" las líneas posteriores a donde se encuentra, haciendo que el ciclo continue su ejecución en la siguiente iteración:"
      ],
      "metadata": {
        "id": "bZVwKZY-I8dd"
      }
    },
    {
      "cell_type": "code",
      "source": [
        "for letra in cadena:\n",
        "  if letra in \"to\":\n",
        "    continue\n",
        "  print(letra)"
      ],
      "metadata": {
        "id": "nqOnyWCwJ8C4",
        "colab": {
          "base_uri": "https://localhost:8080/"
        },
        "outputId": "cd8c9f08-f51c-4376-c996-958cc34b2307"
      },
      "execution_count": null,
      "outputs": [
        {
          "output_type": "stream",
          "name": "stdout",
          "text": [
            "P\n",
            "y\n",
            "h\n",
            "n\n"
          ]
        }
      ]
    },
    {
      "cell_type": "markdown",
      "source": [
        "Como se puede observar, si bien se brinco el `print()`, únicamente no lo ejecuta en esa iteración, siendo que en las demás se ejecuta normalmente.\n",
        "\n",
        "Un ejemplo con `while`:"
      ],
      "metadata": {
        "id": "2UdG4xMyKCvr"
      }
    },
    {
      "cell_type": "code",
      "source": [
        "x = 5\n",
        "while x > 0:\n",
        "  x -= 1\n",
        "  if x == 3:\n",
        "    continue\n",
        "  print(x)"
      ],
      "metadata": {
        "id": "YicB0SL3MXQw",
        "colab": {
          "base_uri": "https://localhost:8080/"
        },
        "outputId": "6a6bd638-ca34-45d4-b60b-5b74d2e93af2"
      },
      "execution_count": null,
      "outputs": [
        {
          "output_type": "stream",
          "name": "stdout",
          "text": [
            "4\n",
            "2\n",
            "1\n",
            "0\n"
          ]
        }
      ]
    },
    {
      "cell_type": "markdown",
      "source": [
        "***COMPARTE TUS REFLEXIONES DE LOS TEMAS VISTOS ANTERIORMENTE.***"
      ],
      "metadata": {
        "id": "SG9zH2AYMsnV"
      }
    },
    {
      "cell_type": "markdown",
      "source": [
        "________________________________________________________________________________\n",
        "________________________________________________________________________________\n",
        "________________________________________________________________________________\n",
        "________________________________________________________________________________\n",
        "________________________________________________________________________________\n"
      ],
      "metadata": {
        "id": "zsdUdF9w-pew"
      }
    }
  ]
}